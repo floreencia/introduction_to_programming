{
 "cells": [
  {
   "cell_type": "markdown",
   "metadata": {},
   "source": [
    "# 8.  Histogram class"
   ]
  },
  {
   "cell_type": "markdown",
   "metadata": {},
   "source": [
    "*Learned Skills: Classes;Creating a function; List handling; Random numbers*"
   ]
  },
  {
   "cell_type": "markdown",
   "metadata": {},
   "source": [
    "1\\. Write a class with a function `eat_data(data)` and a function `create_histogram(num_bins)`. While the first function should add supplied data to the internally stored (previously supplied) data, the second function calculates the histogram of the current data set, where num_bins gives the number of intervals in which the data\n",
    "range is divided.\n",
    "\n",
    "The function `calculate_histogram(num_bins)` should return a tuple of two lists of equal lengths. The first list\n",
    "contains the midpoints of the intervals and the second list contains the counts of\n",
    "data points in the interval."
   ]
  },
  {
   "cell_type": "markdown",
   "metadata": {},
   "source": [
    "2\\. Add a function, that gives a pseudo-graphical representation of the distribution, by drawing a number of\n",
    "stars corresponding to the number of data elements in a given interval. Example:"
   ]
  },
  {
   "cell_type": "code",
   "execution_count": 1,
   "metadata": {
    "collapsed": false
   },
   "outputs": [
    {
     "ename": "SyntaxError",
     "evalue": "invalid syntax (<ipython-input-1-e52dd12b8755>, line 11)",
     "output_type": "error",
     "traceback": [
      "\u001b[0;36m  File \u001b[0;32m\"<ipython-input-1-e52dd12b8755>\"\u001b[0;36m, line \u001b[0;32m11\u001b[0m\n\u001b[0;31m    ***\u001b[0m\n\u001b[0m     ^\u001b[0m\n\u001b[0;31mSyntaxError\u001b[0m\u001b[0;31m:\u001b[0m invalid syntax\n"
     ]
    }
   ],
   "source": [
    "0.0\n",
    "0.5\n",
    "1.0\n",
    "1.5\n",
    "2.0\n",
    "2.5\n",
    "3.0\n",
    "3.5\n",
    "4.0\n",
    "\n",
    "***\n",
    "*****\n",
    "********\n",
    "******************\n",
    "*************\n",
    "**********\n",
    "********\n",
    "******\n",
    "**"
   ]
  },
  {
   "cell_type": "code",
   "execution_count": 8,
   "metadata": {
    "collapsed": false
   },
   "outputs": [],
   "source": [
    "from math import *\n",
    "\n",
    "class myhist():\n",
    "    \n",
    "    def __init__(self):\n",
    "        self.data = []\n",
    "    \n",
    "    def eat_data(self, data):\n",
    "        self.data = self.data + data        \n",
    "        \n",
    "    def create_histogram(self, num_bins, nbins=10):\n",
    "        lb = min(self.data)\n",
    "        ub = max(self.data)\n",
    "        hisrange = ub - lb\n",
    "        delta = histrange/nbins\n",
    "        binlist = []\n",
    "        for i in len()\n",
    "        \n",
    "        pass"
   ]
  },
  {
   "cell_type": "code",
   "execution_count": 7,
   "metadata": {
    "collapsed": false
   },
   "outputs": [
    {
     "data": {
      "text/plain": [
       "[1, 1, 1, 1, 1, 4, 3, 3]"
      ]
     },
     "execution_count": 7,
     "metadata": {},
     "output_type": "execute_result"
    }
   ],
   "source": [
    "ob = myhist()\n",
    "ob.eat_data([1,1,1,1])\n",
    "ob.eat_data([1,4,3,3])\n",
    "ob.data"
   ]
  },
  {
   "cell_type": "code",
   "execution_count": null,
   "metadata": {
    "collapsed": true
   },
   "outputs": [],
   "source": []
  },
  {
   "cell_type": "code",
   "execution_count": null,
   "metadata": {
    "collapsed": true
   },
   "outputs": [],
   "source": []
  },
  {
   "cell_type": "markdown",
   "metadata": {},
   "source": [
    "3\\. Test the function by drawing samples from different probability distributions from the package $\\mathtt{random}$."
   ]
  }
 ],
 "metadata": {
  "kernelspec": {
   "display_name": "Python 3",
   "language": "python",
   "name": "python3"
  },
  "language_info": {
   "codemirror_mode": {
    "name": "ipython",
    "version": 3
   },
   "file_extension": ".py",
   "mimetype": "text/x-python",
   "name": "python",
   "nbconvert_exporter": "python",
   "pygments_lexer": "ipython3",
   "version": "3.4.3"
  }
 },
 "nbformat": 4,
 "nbformat_minor": 0
}
