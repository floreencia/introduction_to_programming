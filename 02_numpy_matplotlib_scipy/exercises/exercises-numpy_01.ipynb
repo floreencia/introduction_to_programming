{
 "cells": [
  {
   "cell_type": "code",
   "execution_count": 2,
   "metadata": {
    "collapsed": false
   },
   "outputs": [],
   "source": [
    "from IPython.core.display import Image"
   ]
  },
  {
   "cell_type": "markdown",
   "metadata": {},
   "source": [
    "# Numpy Exercises"
   ]
  },
  {
   "cell_type": "code",
   "execution_count": 2,
   "metadata": {
    "collapsed": false
   },
   "outputs": [],
   "source": [
    "# Note that this Document is designed to be executed from top to bottom.\n",
    "# General imports, numpy/matplotlib may not be done in all examples.\n",
    "import numpy as np\n",
    "\n",
    "import warnings  # Just used for some examples in the solutions...."
   ]
  },
  {
   "cell_type": "markdown",
   "metadata": {},
   "source": [
    "# Exercises\n",
    "\n",
    "## Warm up\n",
    "\n",
    "Selected from the collection\n",
    "[100 numpy exercises](https://github.com/rougier/numpy-100/blob/master/100%20Numpy%20exercises%20no%20solution.ipynb)"
   ]
  },
  {
   "cell_type": "markdown",
   "metadata": {},
   "source": [
    "#### Import the numpy package under the name np (★☆☆)\n",
    "<!---\n",
    "np.__version__\n",
    "--->"
   ]
  },
  {
   "cell_type": "code",
   "execution_count": null,
   "metadata": {
    "collapsed": true
   },
   "outputs": [],
   "source": []
  },
  {
   "cell_type": "markdown",
   "metadata": {},
   "source": [
    "#### Create a null vector of size 10 (★☆☆)\n",
    "<!---\n",
    "np.zeros()\n",
    "--->"
   ]
  },
  {
   "cell_type": "code",
   "execution_count": null,
   "metadata": {
    "collapsed": true
   },
   "outputs": [],
   "source": []
  },
  {
   "cell_type": "markdown",
   "metadata": {},
   "source": [
    "#### Find indices of non-zero elements from [1,2,0,0,4,0]\n",
    "\n",
    "<!---\n",
    "np.nonzero()\n",
    "--->"
   ]
  },
  {
   "cell_type": "code",
   "execution_count": null,
   "metadata": {
    "collapsed": true
   },
   "outputs": [],
   "source": []
  },
  {
   "cell_type": "markdown",
   "metadata": {},
   "source": [
    "#### Declare a 3x3 identity matrix\n",
    "\n",
    "<!---\n",
    "np.eye()\n",
    "--->"
   ]
  },
  {
   "cell_type": "code",
   "execution_count": null,
   "metadata": {
    "collapsed": true
   },
   "outputs": [],
   "source": []
  },
  {
   "cell_type": "markdown",
   "metadata": {},
   "source": [
    "#### Declare a 5x5 matrix with values 1,2,3,4 just below the diagonal\n"
   ]
  },
  {
   "cell_type": "code",
   "execution_count": null,
   "metadata": {
    "collapsed": false
   },
   "outputs": [],
   "source": []
  },
  {
   "cell_type": "code",
   "execution_count": null,
   "metadata": {
    "collapsed": true
   },
   "outputs": [],
   "source": []
  },
  {
   "cell_type": "markdown",
   "metadata": {},
   "source": [
    "## Array creation and manipulation"
   ]
  },
  {
   "cell_type": "markdown",
   "metadata": {},
   "source": [
    "By using miscellaneous constructors, indexing, slicing, and simple operations (+, −, *, :),\n",
    "large arrays with various patterns can be created. Find a way to create these arrays."
   ]
  },
  {
   "cell_type": "markdown",
   "metadata": {},
   "source": [
    "1. Create the following arrays:\n",
    "\n",
    "  a) $$\n",
    "\\begin{pmatrix}\n",
    "    1. & 1. & 1. & 1. \\\\\n",
    "    1. & 1. & 1. & 1. \\\\\n",
    "    1. & 1. & 1. & 2. \\\\\n",
    "    1. & 6. & 1. & 1. \\\\\n",
    "\\end{pmatrix}\n",
    "$$\n",
    "\n",
    "  b)\n",
    "$$\n",
    "\\begin{pmatrix}\n",
    "    0 & 0 & 0 & 0 & 0 \\\\\n",
    "    2 & 0 & 0 & 0 & 0 \\\\\n",
    "    0 & 3 & 0 & 0 & 0 \\\\\n",
    "    0 & 0 & 4 & 0 & 0 \\\\\n",
    "    0 & 0 & 0 & 5 & 0 \\\\\n",
    "    0 & 0 & 0 & 0 & 6 \\\\\n",
    "\\end{pmatrix}\n",
    "$$\n",
    "\n",
    "<!---\n",
    "np.diag(1+np.arange(4),k=-1)\n",
    "--->"
   ]
  },
  {
   "cell_type": "markdown",
   "metadata": {},
   "source": [
    "2. Form this 2-D array (without explicitly typing it):\n",
    "$$\n",
    "\\begin{pmatrix}\n",
    "    1 & 6 & 11 \\\\\n",
    "    2 & 7 & 12 \\\\\n",
    "    3 & 8 & 13 \\\\\n",
    "    4 & 9 & 14 \\\\\n",
    "    5 & 10 & 15 \\\\\n",
    "\\end{pmatrix}\n",
    "$$"
   ]
  },
  {
   "cell_type": "markdown",
   "metadata": {},
   "source": [
    "### Solution"
   ]
  },
  {
   "cell_type": "code",
   "execution_count": 3,
   "metadata": {
    "collapsed": false
   },
   "outputs": [],
   "source": []
  },
  {
   "cell_type": "code",
   "execution_count": 3,
   "metadata": {
    "collapsed": false
   },
   "outputs": [],
   "source": []
  },
  {
   "cell_type": "code",
   "execution_count": 3,
   "metadata": {
    "collapsed": false
   },
   "outputs": [],
   "source": []
  },
  {
   "cell_type": "markdown",
   "metadata": {},
   "source": [
    "## A simple calculation"
   ]
  },
  {
   "cell_type": "markdown",
   "metadata": {},
   "source": [
    "1. Devide each column of the array ``a`` elementwise by the array ``b`` (do you notice some problem?)"
   ]
  },
  {
   "cell_type": "code",
   "execution_count": 3,
   "metadata": {
    "collapsed": false
   },
   "outputs": [],
   "source": []
  },
  {
   "cell_type": "markdown",
   "metadata": {},
   "source": [
    "### Solution"
   ]
  },
  {
   "cell_type": "code",
   "execution_count": 3,
   "metadata": {
    "collapsed": false
   },
   "outputs": [],
   "source": []
  },
  {
   "cell_type": "markdown",
   "metadata": {},
   "source": [
    "## Sorting and more"
   ]
  },
  {
   "cell_type": "markdown",
   "metadata": {},
   "source": [
    "a) Generate a 10 × 3 array of random numbers ($\\in [0, 1[$). For each row, pick\n",
    "the number closest to 0.5. Use ``abs`` and ``argmin`` to find the column $j$ closest for\n",
    "each row. Use advanced indexing to extract the numbers. (Hint: ``arr[i,j]`` – the array\n",
    "$i$ must contain the row numbers corresponding to stuff in $j$.)\n",
    "\n",
    "b) Find the two points closest using ``argsort``. Advanced: Look at ``argpartition``\n",
    "can you figure out how to improve the speed of your algorithm? Find the fastest method\n",
    "and test it on larger arrays!"
   ]
  },
  {
   "cell_type": "markdown",
   "metadata": {},
   "source": [
    "### Solution"
   ]
  },
  {
   "cell_type": "code",
   "execution_count": 3,
   "metadata": {
    "collapsed": false
   },
   "outputs": [],
   "source": []
  },
  {
   "cell_type": "code",
   "execution_count": 3,
   "metadata": {
    "collapsed": false
   },
   "outputs": [],
   "source": []
  }
 ],
 "metadata": {
  "kernelspec": {
   "display_name": "Python 2",
   "language": "python",
   "name": "python2"
  },
  "language_info": {
   "codemirror_mode": {
    "name": "ipython",
    "version": 2
   },
   "file_extension": ".py",
   "mimetype": "text/x-python",
   "name": "python",
   "nbconvert_exporter": "python",
   "pygments_lexer": "ipython2",
   "version": "2.7.6"
  }
 },
 "nbformat": 4,
 "nbformat_minor": 0
}
